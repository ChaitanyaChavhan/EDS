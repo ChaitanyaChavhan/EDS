{
  "nbformat": 4,
  "nbformat_minor": 0,
  "metadata": {
    "colab": {
      "provenance": [],
      "include_colab_link": true
    },
    "kernelspec": {
      "name": "python3",
      "display_name": "Python 3"
    },
    "language_info": {
      "name": "python"
    }
  },
  "cells": [
    {
      "cell_type": "markdown",
      "metadata": {
        "id": "view-in-github",
        "colab_type": "text"
      },
      "source": [
        "<a href=\"https://colab.research.google.com/github/MysticCosmo/EDS/blob/main/ASSIGNMENT_02.ipynb\" target=\"_parent\"><img src=\"https://colab.research.google.com/assets/colab-badge.svg\" alt=\"Open In Colab\"/></a>"
      ]
    },
    {
      "cell_type": "code",
      "execution_count": null,
      "metadata": {
        "colab": {
          "base_uri": "https://localhost:8080/"
        },
        "id": "lQK__zsrzy1R",
        "outputId": "5ed3a6f4-9de3-4293-b649-a0a91f77a8b8"
      },
      "outputs": [
        {
          "output_type": "stream",
          "name": "stdout",
          "text": [
            "Product Details:\n",
            " ['Lenovo Laptop', 'Samsung M31', 'Realmi 10pro', 'Oppo F21', 'Lenovo Laptop', 'Samsung M31', '\"LG TV 32\"\"\"', 'Oppo F21', 'Lenovo Laptop', 'Samsung M31', '\"LG TV 32\"\"\"', 'Lenovo Laptop', 'Samsung M31', 'Realmi 10pro', 'Lenovo Laptop', 'Oppo F21', '\"LG TV 32\"\"\"', 'Lenovo Laptop', 'Samsung M31', '\"LG TV 32\"\"\"'] \n",
            "Customer Details:\n",
            " ['Kaustubh Mahajan', 'Siddhi Kiwale', 'Sanket Kandalkar', 'Yash Mali', 'Yash Bagul', 'Siddhi Kiwale', 'Sanket Kandalkar', 'Kaustubh Mahajan', 'Yash Mali', 'Siddhi Kiwale', 'Sanket Kandalkar', 'Kaustubh Mahajan', 'Yash Mali', 'Siddhi Kiwale', 'Tanuja Mali', 'Kaustubh Mahajan', 'Sanket Kandalkar', 'Siddhi Kiwale', 'Kaustubh Mahajan', 'Yash Mali'] \n",
            "Supplier Details:\n",
            " {'P00001': 'Raka Ele.', 'P00002': 'Vijay Sales', 'P00003': 'Gada Ele.', 'P00004': 'Surya Ele.', 'P00005': 'Raka Ele.', 'P00006': 'Gada Ele.', 'P00007': 'Vijay Sales', 'P00008': 'Surya Ele.', 'P00009': 'Raka Ele.', 'P00010': 'Gada Ele.', 'P00011': 'Surya Ele.', 'P00012': 'Raka Ele.', 'P00013': 'Surya Ele.', 'P00014': 'Raka Ele.', 'P00015': 'Gada Ele.', 'P00016': 'Vijay Sales', 'P00017': 'Deshmukh sales', 'P00018': 'Raka Ele.', 'P00019': 'Deshmukh sales', 'P00020': 'Gada Ele.'} \n",
            "Gender:\n",
            " {'Kaustubh Mahajan': 'Male ', 'Siddhi Kiwale': 'Female ', 'Sanket Kandalkar': 'Male ', 'Yash Mali': 'Male ', 'Yash Bagul': 'Male ', 'Tanuja Mali': 'Female '} \n",
            "\n",
            "Most popular product: Lenovo Laptop\n",
            "Best Supplier: Raka Electronics\n",
            "Customer who buys most number of products: Kaustubh Mahajan\n",
            "Female Customers: 2\n"
          ]
        }
      ],
      "source": [
        "Product_details = []        #creating empty list for product details\n",
        "Customer_details = []       #creating empty list for customer details\n",
        "Supplier_details = dict()   #creating empty dictionary for suppliers details\n",
        "gender={}                   #creating empty set for gender details\n",
        "\n",
        "fp1=open(\"/content/sample_data/Sales.csv\",\"r\")   #opening file in read mode\n",
        "data=fp1.readline()         #reading file line by line and storing it in data\n",
        "\n",
        "while(True):                #if data is present loop will be executed\n",
        "  data=fp1.readline()\n",
        "  if not data:              #if data is absent loop will be terminated\n",
        "    break\n",
        "    #if data is present loop will be executed\n",
        "  data=data.replace(\"\\n\",\" \")\n",
        "  temp=data.split(\",\")\n",
        "  Product_details.append(temp[1])\n",
        "  Customer_details.append(temp[3])\n",
        "  Supplier_details.update({temp[0]:temp[2]})\n",
        "  gender.update({temp[3]:temp[4]})\n",
        "\n",
        "#closing the file\n",
        "fp1.close()\n",
        "\n",
        "print(\"Product Details:\\n\",Product_details,end=\" \")\n",
        "print(\"\\nCustomer Details:\\n\",Customer_details,end=\" \")\n",
        "print(\"\\nSupplier Details:\\n\",Supplier_details,end=\" \")\n",
        "print(\"\\nGender:\\n\",gender,end=\" \")\n",
        "print(\"\\n\")\n",
        "\n",
        "c_lenovo=Product_details.count('Lenovo Laptop')\n",
        "#print(\"Lenovo Laptops:\",c_lenovo)\n",
        "\n",
        "c_sam=Product_details.count('Samsung M31')\n",
        "#print(\"Samsung M31:\",c_sam)\n",
        "\n",
        "c_realmi=Product_details.count('Realmi 10pro')\n",
        "#print(\"Realmi 10pro:\",c_realmi)\n",
        "\n",
        "c_oppo=Product_details.count('Oppo F21')\n",
        "#print(\"Oppo F21:\",c_oppo)\n",
        "\n",
        "c_lgtv=Product_details.count('LG TV 32')\n",
        "#print(\"LG TV 32:\",c_lgtv)\n",
        "\n",
        "productct={\"Lenovo Laptop\":c_lenovo,\"Samsung M31\":c_sam,\"Realmi 10pro\":c_realmi,\"Oppo F21\":c_oppo,\"LG TV 32\":c_lgtv}\n",
        "#print(productct)\n",
        "pcount=sorted(productct.items(), key=lambda item: item[1],reverse=True)\n",
        "print(\"Most popular product:\",pcount[0][0])\n",
        "\n",
        "t1=list(Supplier_details.values())\n",
        "\n",
        "c_sr=t1.count('Raka Ele.')\n",
        "#print(\"Products sold by Raka Electronics:\",c_sr)\n",
        "\n",
        "c_sv=t1.count('Vijay Sales')\n",
        "#print(\"Products sold by Vijay Sales:\",c_sv)\n",
        "\n",
        "c_sg=t1.count('Gada Ele.')\n",
        "#print(\"Products sold by Gada Electronics:\",c_sg)\n",
        "\n",
        "c_ss=t1.count('Surya Ele.')\n",
        "#print(\"Products sold by Surya Electronics:\",c_ss)\n",
        "\n",
        "c_sd=t1.count('Deshmukh sales')\n",
        "#print(\"Products sold by Deshmukh Sales:\",c_sd)\n",
        "\n",
        "suppct={\"Raka Electronics\":c_sr,\"Vijay Sales\":c_sv,\"Gada Electronics\":c_sg,\"Surya Electronics.\":c_ss,\"Deshmukh Sales\":c_sd}\n",
        "scount=sorted(suppct.items(), key=lambda item: item[1],reverse=True)\n",
        "print(\"Best Supplier:\",scount[0][0])\n",
        "\n",
        "c_ckm=Customer_details.count('Kaustubh Mahajan')\n",
        "#print(\"Products bought by Kaustubh Mahajan:\",c_ckm)\n",
        "\n",
        "c_csk=Customer_details.count('Siddhi Kiwale')\n",
        "#print(\"Products bought by Sakshi Kiwale:\",c_csk)\n",
        "\n",
        "c_cskr=Customer_details.count('Sanket Kandalkar')\n",
        "#print(\"Products bought by Sanket Kandalkar:\",c_cskr)\n",
        "\n",
        "c_cym=Customer_details.count('Yash Mali')\n",
        "#print(\"Products bought by Yash Mali:\",c_cym)\n",
        "\n",
        "c_cyb=Customer_details.count('Yash Bagul')\n",
        "#print(\"Products bought by Yash Bagul:\",c_cyb)\n",
        "\n",
        "c_ctm=Customer_details.count('Tanuja Mali')\n",
        "#print(\"Products bought by Tanuja Mali:\",c_ctm)\n",
        "\n",
        "custct={\"Kaustubh Mahajan\":c_ckm,\"Sakshi Kiwale\":c_csk,\"Sanket Kandalkar\":c_cskr,\"Yash Mali\":c_cym,\"Yash Bagul\":c_cyb,\"Tanuja Mali\":c_ctm}\n",
        "ccount=sorted(custct.items(), key=lambda item: item[1],reverse=True)\n",
        "print(\"Customer who buys most number of products:\",ccount[0][0])\n",
        "\n",
        "t2=list(gender.values())\n",
        "c_fc=t2.count('Female ')\n",
        "\n",
        "print(\"Female Customers:\",c_fc)"
      ]
    }
  ]
}